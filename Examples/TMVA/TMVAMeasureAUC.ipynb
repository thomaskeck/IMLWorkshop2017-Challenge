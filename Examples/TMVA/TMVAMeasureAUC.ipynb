{
 "cells": [
  {
   "cell_type": "markdown",
   "metadata": {},
   "source": [
    "\n",
    "# Measure AUC on Test Dataset for IML Challenge\n",
    "\n",
    "This notebook extracts the AUC of your method measured on the test dataset. Please read the challenge instructions for further information."
   ]
  },
  {
   "cell_type": "markdown",
   "metadata": {},
   "source": [
    "## Set up TMVA"
   ]
  },
  {
   "cell_type": "code",
   "execution_count": 1,
   "metadata": {
    "collapsed": false
   },
   "outputs": [
    {
     "data": {
      "application/javascript": [
       "\n",
       "require(['notebook'],\n",
       "  function() {\n",
       "    IPython.CodeCell.config_defaults.highlight_modes['magic_text/x-c++src'] = {'reg':[/^%%cpp/]};\n",
       "    console.log(\"JupyROOT - %%cpp magic configured\");\n",
       "  }\n",
       ");\n"
      ]
     },
     "metadata": {},
     "output_type": "display_data"
    },
    {
     "name": "stdout",
     "output_type": "stream",
     "text": [
      "Welcome to JupyROOT 6.08/06\n"
     ]
    }
   ],
   "source": [
    "import ROOT\n",
    "\n",
    "# Set up TMVA reader\n",
    "reader = ROOT.TMVA.Reader(\"Color:!Silent\")"
   ]
  },
  {
   "cell_type": "markdown",
   "metadata": {},
   "source": [
    "## Load data\n",
    "\n",
    "**NOTE:** You have to preprocess the modified data, similar to what was done for the \"standard\" data in the TMVAClassification notebook.   \n",
    "In order to do that, please run `sh PREPROCESS_DATA_MODIFIED` in a terminal.\n"
   ]
  },
  {
   "cell_type": "code",
   "execution_count": 3,
   "metadata": {
    "collapsed": false
   },
   "outputs": [],
   "source": [
    "# NOTE: Check out the `preprocess_data.py` script shipped with this notebook!\n",
    "\n",
    "data = ROOT.TFile(\"preprocessed_data_modified.root\")\n",
    "if data == None:\n",
    "    raise Exception('Have you run the preprocessing? Can not open file: {}'.format(filename))\n",
    "\n",
    "quarks = data.Get('quarks')\n",
    "gluons = data.Get('gluons')\n"
   ]
  },
  {
   "cell_type": "markdown",
   "metadata": {},
   "source": [
    "## Declare variables\n",
    "\n",
    "You have to declare which variables you want to use for the application."
   ]
  },
  {
   "cell_type": "code",
   "execution_count": 4,
   "metadata": {
    "collapsed": false
   },
   "outputs": [],
   "source": [
    "from array import array\n",
    "\n",
    "branches = {}\n",
    "for branch in quarks.GetListOfBranches():\n",
    "    branchName = branch.GetName()\n",
    "    if not '_' in branchName: # NOTE: This selection has to be the same as used during training!\n",
    "        branches[branchName] = array('f', [-999])\n",
    "        reader.AddVariable(branchName, branches[branchName])\n",
    "        quarks.SetBranchAddress(branchName, branches[branchName])\n",
    "        gluons.SetBranchAddress(branchName, branches[branchName])"
   ]
  },
  {
   "cell_type": "markdown",
   "metadata": {},
   "source": [
    "## Book method\n",
    "\n",
    "Point here to the weight file of the method you want to use."
   ]
  },
  {
   "cell_type": "code",
   "execution_count": 5,
   "metadata": {
    "collapsed": false
   },
   "outputs": [
    {
     "data": {
      "text/plain": [
       "<ROOT.TMVA::MethodFisher object (\"Fisher\") at 0x5a7c5d0>"
      ]
     },
     "execution_count": 5,
     "metadata": {},
     "output_type": "execute_result"
    },
    {
     "name": "stdout",
     "output_type": "stream",
     "text": [
      "                         : Booking \"Fisher\" of type \"Fisher\" from TMVAClassification/weights/TMVAClassification_Fisher.weights.xml.\n",
      "DataSetInfo              : [Default] : Added class \"quarks\"\n",
      "DataSetInfo              : [Default] : Added class \"gluons\"\n",
      "                         : Booked classifier \"Fisher\" of type: \"Fisher\"\n"
     ]
    }
   ],
   "source": [
    "# Book Fisher method\n",
    "reader.BookMVA('Fisher', ROOT.TString('TMVAClassification/weights/TMVAClassification_Fisher.weights.xml'))"
   ]
  },
  {
   "cell_type": "markdown",
   "metadata": {
    "collapsed": true
   },
   "source": [
    "## Classify data"
   ]
  },
  {
   "cell_type": "code",
   "execution_count": 6,
   "metadata": {
    "collapsed": false
   },
   "outputs": [],
   "source": [
    "import numpy as np\n",
    "\n",
    "# Classify quarks\n",
    "mvaValues_quarks = np.zeros(quarks.GetEntries())\n",
    "for i in range(quarks.GetEntries()):\n",
    "    quarks.GetEntry(i)\n",
    "    mvaValues_quarks[i] = reader.EvaluateMVA('Fisher')\n",
    "\n",
    "# Classify gluons\n",
    "mvaValues_gluons = np.zeros(gluons.GetEntries())\n",
    "for i in range(gluons.GetEntries()):\n",
    "    gluons.GetEntry(i)\n",
    "    mvaValues_gluons[i] = reader.EvaluateMVA('Fisher')"
   ]
  },
  {
   "cell_type": "markdown",
   "metadata": {},
   "source": [
    "## Calculate area-under-curve (AUC)"
   ]
  },
  {
   "cell_type": "code",
   "execution_count": 7,
   "metadata": {
    "collapsed": false
   },
   "outputs": [
    {
     "name": "stdout",
     "output_type": "stream",
     "text": [
      "AUC: 0.769851399475\n"
     ]
    }
   ],
   "source": [
    "from sklearn import metrics\n",
    "\n",
    "# Calculate ROC\n",
    "y_true = np.hstack((np.ones(quarks.GetEntries()), np.zeros(gluons.GetEntries())))\n",
    "y_score = np.hstack((mvaValues_quarks, mvaValues_gluons))\n",
    "fpr, tpr, thresholds = metrics.roc_curve(y_true, y_score)\n",
    "\n",
    "# Get AUC from ROC\n",
    "auc = metrics.auc(fpr, tpr)\n",
    "print('AUC: {}'.format(auc))"
   ]
  },
  {
   "cell_type": "code",
   "execution_count": 8,
   "metadata": {
    "collapsed": false
   },
   "outputs": [
    {
     "data": {
      "image/png": "[encoded data removed]",
      "text/plain": [
       "<matplotlib.figure.Figure at 0x7f9af89fb950>"
      ]
     },
     "metadata": {},
     "output_type": "display_data"
    }
   ],
   "source": [
    "# Plot ROC\n",
    "\n",
    "import matplotlib.pyplot as plt\n",
    "# Enable Javascript magic for matplotlib\n",
    "%matplotlib inline\n",
    "\n",
    "plt.figure()\n",
    "plt.plot(fpr, tpr, color='red', label='ROC curve (area = {})'.format(auc))\n",
    "plt.xlim([0.0, 1.0])\n",
    "plt.ylim([0.0, 1.05])\n",
    "plt.xlabel('False Positive Rate')\n",
    "plt.ylabel('True Positive Rate')\n",
    "plt.title('Receiver operating characteristic')\n",
    "plt.legend(loc=0)\n",
    "plt.show()"
   ]
  },
  {
   "cell_type": "code",
   "execution_count": 10,
   "metadata": {
    "collapsed": false
   },
   "outputs": [],
   "source": [
    "# Save AUC value\n",
    "f = open(\"imlcoordinators_v2_auc.txt\",\"w\") \n",
    "f.write(str(auc))\n",
    "f.close()"
   ]
  },
  {
   "cell_type": "code",
   "execution_count": null,
   "metadata": {
    "collapsed": true
   },
   "outputs": [],
   "source": []
  }
 ],
 "metadata": {
  "kernelspec": {
   "display_name": "Python 2",
   "language": "python",
   "name": "python2"
  },
  "language_info": {
   "codemirror_mode": {
    "name": "ipython",
    "version": 2
   },
   "file_extension": ".py",
   "mimetype": "text/x-python",
   "name": "python",
   "nbconvert_exporter": "python",
   "pygments_lexer": "ipython2",
   "version": "2.7.13"
  }
 },
 "nbformat": 4,
 "nbformat_minor": 1
}
