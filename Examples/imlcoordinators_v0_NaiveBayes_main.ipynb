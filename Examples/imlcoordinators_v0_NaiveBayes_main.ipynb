{
 "cells": [
  {
   "cell_type": "markdown",
   "metadata": {},
   "source": [
    "# Simple Quark / Gluon discrimination example \n",
    "\n",
    "This is a simple example which uses jet shapes and a naive Bayes method (see e.g. [here](http://nbviewer.jupyter.org/github/jakevdp/PythonDataScienceHandbook/blob/master/notebooks/05.05-Naive-Bayes.ipynb))  to distinguish quark and gluon jets.\n",
    "\n",
    "The name of this notebook respects the naming convention needed for the submission of the results (see the [README](https://gitlab.cern.ch/IML-WG/IMLWorkshop2017-Challenge/blob/master/README.md))\n",
    "\n",
    "The classification is based on 4 jet shapes, which are computed in the [flat_helper.py](https://gitlab.cern.ch/IML-WG/IMLWorkshop2017-Challenge/blob/master/Examples/flat_helper.py) script. Have a look at this script for an example on how to iterate over the input trees. Two functions are provided:\n",
    "* ```GetJetShapes```: The iteration happens in python, so this is relativelay slow\n",
    "* ```GetJetShapesFast```: The iteration happens in a C macro ([CreateJetShapes.C](https://gitlab.cern.ch/IML-WG/IMLWorkshop2017-Challenge/blob/master/Examples/CreateJetShapes.C)) , and the shapes are written to a temporary root file. This is faster.\n",
    "\n",
    "There is a slight difference in the interface of the 2 methods (GetJetShapes needs a pattern, GetJetShapesFast a folder).\n",
    "\n",
    "To use this notebook, simply execute all cells one after the other.\n",
    "The last cell also saves the AUC value to the text file needed for the submission of the results.\n"
   ]
  },
  {
   "cell_type": "code",
   "execution_count": 1,
   "metadata": {
    "collapsed": false
   },
   "outputs": [
    {
     "data": {
      "application/javascript": [
       "\n",
       "require(['notebook'],\n",
       "  function() {\n",
       "    IPython.CodeCell.config_defaults.highlight_modes['magic_text/x-c++src'] = {'reg':[/^%%cpp/]};\n",
       "    console.log(\"JupyROOT - %%cpp magic configured\");\n",
       "  }\n",
       ");\n"
      ]
     },
     "metadata": {},
     "output_type": "display_data"
    },
    {
     "name": "stdout",
     "output_type": "stream",
     "text": [
      "Welcome to JupyROOT 6.08/06\n"
     ]
    }
   ],
   "source": [
    "# basic imports\n",
    "import ROOT\n",
    "import flat_helper\n",
    "import sys"
   ]
  },
  {
   "cell_type": "code",
   "execution_count": 2,
   "metadata": {
    "collapsed": false
   },
   "outputs": [
    {
     "name": "stderr",
     "output_type": "stream",
     "text": [
      "Unrecognized JSON config file version, assuming version 1\n",
      "Enabling notebook extension jupyter-js-widgets/extension...\n",
      "      - Validating: \u001b[32mOK\u001b[0m\n"
     ]
    }
   ],
   "source": [
    "%%bash\n",
    "# This only needs to be executed the first time, comment it out if you used it already once.\n",
    "# it installs an additional keras package and the extensions for the progress bar\n",
    "# YOU NEED TO EXECUTE THIS ONLY THE FIRST TIME YOU RUN ON A SPECIFIC SWAN MACHINE (e.g. swan00x) and \n",
    "# YOU HAVE TO REFRESH THE PAGE FOR THE PROGRESSBARS TO SHOW\n",
    "#pip install --user seaborn\n",
    "jupyter nbextension enable --py widgetsnbextension "
   ]
  },
  {
   "cell_type": "code",
   "execution_count": 3,
   "metadata": {
    "collapsed": false
   },
   "outputs": [
    {
     "name": "stdout",
     "output_type": "stream",
     "text": [
      "Input dir: /eos/project/i/iml/IMLChallengeQG/quarks_standard\n",
      "\r",
      " Processing [0/20000]\r",
      " Processing [10000/20000]\n",
      "Input dir: /eos/project/i/iml/IMLChallengeQG/gluons_standard\n",
      "\r",
      " Processing [0/20000]\r",
      " Processing [10000/20000]\n"
     ]
    },
    {
     "name": "stderr",
     "output_type": "stream",
     "text": [
      "Error in <TFile::TFile>: file _eos_project_i_iml_IMLChallengeQG_quarks_standard_shapes.root does not exist\n",
      "Error in <TFile::TFile>: file _eos_project_i_iml_IMLChallengeQG_gluons_standard_shapes.root does not exist\n"
     ]
    }
   ],
   "source": [
    "# Load jet shapes. \n",
    "# The second argument indicates the number of jets to process (use -1 to process all available jets).\n",
    "# The GetJetShapes[Fast] functions return a pandas data frame, and saves it to a  file for reuse. \n",
    "# If the file exist, the trees are not reprocessed. To force reprocessing (e.g. you want to include \n",
    "# more statistics) use the recompute=True argument.\n",
    "# The calculation of jet shapes in the GetJetShapes function is somewhat slow, as the loops for the \n",
    "# computation run in python\n",
    "# in GetJetShapesFast the computation is implemented in an external C macro\n",
    "# The \"file does not exist\" error message is \"normal\" the first time you execute this cell\n",
    "\n",
    "#dfQuarks = flat_helper.GetJetShapes('/eos/project/i/iml/IMLChallengeQG/quarks_standard/*.root', 10000, recompute=True)\n",
    "#dfGluons = flat_helper.GetJetShapes('/eos/project/i/iml/IMLChallengeQG/gluons_standard*.root', 10000, recompute=True)\n",
    "dfQuarks = flat_helper.GetJetShapesFast('/eos/project/i/iml/IMLChallengeQG/quarks_standard', 20000, recompute=False)\n",
    "dfGluons = flat_helper.GetJetShapesFast('/eos/project/i/iml/IMLChallengeQG/gluons_standard', 20000, recompute=False)"
   ]
  },
  {
   "cell_type": "code",
   "execution_count": 4,
   "metadata": {
    "collapsed": false
   },
   "outputs": [],
   "source": [
    "## set labels\n",
    "dfQuarks['isGluon'] = 0\n",
    "dfGluons['isGluon'] = 1"
   ]
  },
  {
   "cell_type": "code",
   "execution_count": 5,
   "metadata": {
    "collapsed": false
   },
   "outputs": [
    {
     "data": {
      "text/html": [
       "<div>\n",
       "<table border=\"1\" class=\"dataframe\">\n",
       "  <thead>\n",
       "    <tr style=\"text-align: right;\">\n",
       "      <th></th>\n",
       "      <th>mass</th>\n",
       "      <th>ntowers</th>\n",
       "      <th>radial</th>\n",
       "      <th>dispersion</th>\n",
       "      <th>isGluon</th>\n",
       "    </tr>\n",
       "  </thead>\n",
       "  <tbody>\n",
       "    <tr>\n",
       "      <th>0</th>\n",
       "      <td>8.275855</td>\n",
       "      <td>0.0</td>\n",
       "      <td>0.000000</td>\n",
       "      <td>0.000000</td>\n",
       "      <td>0</td>\n",
       "    </tr>\n",
       "    <tr>\n",
       "      <th>1</th>\n",
       "      <td>18.406378</td>\n",
       "      <td>2.0</td>\n",
       "      <td>0.000000</td>\n",
       "      <td>0.000000</td>\n",
       "      <td>0</td>\n",
       "    </tr>\n",
       "    <tr>\n",
       "      <th>2</th>\n",
       "      <td>8.124520</td>\n",
       "      <td>6.0</td>\n",
       "      <td>0.400834</td>\n",
       "      <td>0.448262</td>\n",
       "      <td>0</td>\n",
       "    </tr>\n",
       "    <tr>\n",
       "      <th>3</th>\n",
       "      <td>4.995439</td>\n",
       "      <td>3.0</td>\n",
       "      <td>0.170562</td>\n",
       "      <td>0.561912</td>\n",
       "      <td>0</td>\n",
       "    </tr>\n",
       "    <tr>\n",
       "      <th>4</th>\n",
       "      <td>7.139542</td>\n",
       "      <td>4.0</td>\n",
       "      <td>0.237577</td>\n",
       "      <td>0.445743</td>\n",
       "      <td>0</td>\n",
       "    </tr>\n",
       "  </tbody>\n",
       "</table>\n",
       "</div>"
      ],
      "text/plain": [
       "        mass  ntowers    radial  dispersion  isGluon\n",
       "0   8.275855      0.0  0.000000    0.000000        0\n",
       "1  18.406378      2.0  0.000000    0.000000        0\n",
       "2   8.124520      6.0  0.400834    0.448262        0\n",
       "3   4.995439      3.0  0.170562    0.561912        0\n",
       "4   7.139542      4.0  0.237577    0.445743        0"
      ]
     },
     "execution_count": 5,
     "metadata": {},
     "output_type": "execute_result"
    }
   ],
   "source": [
    "dfQuarks.head()"
   ]
  },
  {
   "cell_type": "code",
   "execution_count": 6,
   "metadata": {
    "collapsed": false
   },
   "outputs": [
    {
     "data": {
      "text/html": [
       "<div>\n",
       "<table border=\"1\" class=\"dataframe\">\n",
       "  <thead>\n",
       "    <tr style=\"text-align: right;\">\n",
       "      <th></th>\n",
       "      <th>mass</th>\n",
       "      <th>ntowers</th>\n",
       "      <th>radial</th>\n",
       "      <th>dispersion</th>\n",
       "      <th>isGluon</th>\n",
       "    </tr>\n",
       "  </thead>\n",
       "  <tbody>\n",
       "    <tr>\n",
       "      <th>0</th>\n",
       "      <td>20.549572</td>\n",
       "      <td>11.0</td>\n",
       "      <td>0.000000</td>\n",
       "      <td>0.000000</td>\n",
       "      <td>1</td>\n",
       "    </tr>\n",
       "    <tr>\n",
       "      <th>1</th>\n",
       "      <td>9.343444</td>\n",
       "      <td>3.0</td>\n",
       "      <td>0.566082</td>\n",
       "      <td>0.294961</td>\n",
       "      <td>1</td>\n",
       "    </tr>\n",
       "    <tr>\n",
       "      <th>2</th>\n",
       "      <td>16.000256</td>\n",
       "      <td>17.0</td>\n",
       "      <td>0.285827</td>\n",
       "      <td>0.405563</td>\n",
       "      <td>1</td>\n",
       "    </tr>\n",
       "    <tr>\n",
       "      <th>3</th>\n",
       "      <td>9.567515</td>\n",
       "      <td>10.0</td>\n",
       "      <td>0.593621</td>\n",
       "      <td>0.612770</td>\n",
       "      <td>1</td>\n",
       "    </tr>\n",
       "    <tr>\n",
       "      <th>4</th>\n",
       "      <td>7.662630</td>\n",
       "      <td>14.0</td>\n",
       "      <td>0.004826</td>\n",
       "      <td>1.000000</td>\n",
       "      <td>1</td>\n",
       "    </tr>\n",
       "  </tbody>\n",
       "</table>\n",
       "</div>"
      ],
      "text/plain": [
       "        mass  ntowers    radial  dispersion  isGluon\n",
       "0  20.549572     11.0  0.000000    0.000000        1\n",
       "1   9.343444      3.0  0.566082    0.294961        1\n",
       "2  16.000256     17.0  0.285827    0.405563        1\n",
       "3   9.567515     10.0  0.593621    0.612770        1\n",
       "4   7.662630     14.0  0.004826    1.000000        1"
      ]
     },
     "execution_count": 6,
     "metadata": {},
     "output_type": "execute_result"
    }
   ],
   "source": [
    "dfGluons.head()"
   ]
  },
  {
   "cell_type": "code",
   "execution_count": 7,
   "metadata": {
    "collapsed": false,
    "hide_input": false
   },
   "outputs": [
    {
     "data": {
      "image/png": "[encoded data removed]",
      "text/plain": [
       "<matplotlib.figure.Figure at 0x7f502705d990>"
      ]
     },
     "metadata": {},
     "output_type": "display_data"
    }
   ],
   "source": [
    "# some basic plotting\n",
    "import matplotlib.pyplot as plt\n",
    "import seaborn as sns; sns.set() # cosmetics\n",
    "%matplotlib inline\n",
    "plt.hist(dfQuarks.mass, bins=50, alpha=0.5, label='Quarks');\n",
    "plt.hist(dfGluons.mass, bins=50, alpha=0.5, label='Gluons');\n",
    "plt.legend();"
   ]
  },
  {
   "cell_type": "code",
   "execution_count": 8,
   "metadata": {
    "collapsed": false
   },
   "outputs": [],
   "source": [
    "# Import the packages needed for the classification\n",
    "\n",
    "# We use a simple naive bayes as a first illustration\n",
    "from sklearn.naive_bayes import GaussianNB\n",
    "#from sklearn.model_selection import train_test_split # model selection is available in 0.18, on swan we have scikit 0.17 for the moment\n",
    "from sklearn.cross_validation import train_test_split"
   ]
  },
  {
   "cell_type": "code",
   "execution_count": 9,
   "metadata": {
    "collapsed": false
   },
   "outputs": [
    {
     "data": {
      "text/html": [
       "<div>\n",
       "<table border=\"1\" class=\"dataframe\">\n",
       "  <thead>\n",
       "    <tr style=\"text-align: right;\">\n",
       "      <th></th>\n",
       "      <th>mass</th>\n",
       "      <th>ntowers</th>\n",
       "      <th>radial</th>\n",
       "      <th>dispersion</th>\n",
       "    </tr>\n",
       "  </thead>\n",
       "  <tbody>\n",
       "    <tr>\n",
       "      <th>0</th>\n",
       "      <td>8.275855</td>\n",
       "      <td>0.0</td>\n",
       "      <td>0.000000</td>\n",
       "      <td>0.000000</td>\n",
       "    </tr>\n",
       "    <tr>\n",
       "      <th>1</th>\n",
       "      <td>18.406378</td>\n",
       "      <td>2.0</td>\n",
       "      <td>0.000000</td>\n",
       "      <td>0.000000</td>\n",
       "    </tr>\n",
       "    <tr>\n",
       "      <th>2</th>\n",
       "      <td>8.124520</td>\n",
       "      <td>6.0</td>\n",
       "      <td>0.400834</td>\n",
       "      <td>0.448262</td>\n",
       "    </tr>\n",
       "    <tr>\n",
       "      <th>3</th>\n",
       "      <td>4.995439</td>\n",
       "      <td>3.0</td>\n",
       "      <td>0.170562</td>\n",
       "      <td>0.561912</td>\n",
       "    </tr>\n",
       "    <tr>\n",
       "      <th>4</th>\n",
       "      <td>7.139542</td>\n",
       "      <td>4.0</td>\n",
       "      <td>0.237577</td>\n",
       "      <td>0.445743</td>\n",
       "    </tr>\n",
       "  </tbody>\n",
       "</table>\n",
       "</div>"
      ],
      "text/plain": [
       "        mass  ntowers    radial  dispersion\n",
       "0   8.275855      0.0  0.000000    0.000000\n",
       "1  18.406378      2.0  0.000000    0.000000\n",
       "2   8.124520      6.0  0.400834    0.448262\n",
       "3   4.995439      3.0  0.170562    0.561912\n",
       "4   7.139542      4.0  0.237577    0.445743"
      ]
     },
     "execution_count": 9,
     "metadata": {},
     "output_type": "execute_result"
    }
   ],
   "source": [
    "# Prepare training data frames and labels, putting together the data frames for quarks and gluons\n",
    "# Training data should *not* contain the true label\n",
    "# The labels should be provided in a separate array\n",
    "\n",
    "\n",
    "import pandas as pd\n",
    "# prepare the label array, concatenating the quarks and gluon labels\n",
    "labels = pd.concat([dfQuarks['isGluon'],dfGluons['isGluon']])\n",
    "# create the training data frame. We have to drop the \"truth\" label from those. \n",
    "trainData = pd.concat([dfQuarks.drop('isGluon',axis=1), dfGluons.drop('isGluon',axis=1)])\n",
    "# Let's make sure the \"isGluon\" column is gone\n",
    "trainData.head()"
   ]
  },
  {
   "cell_type": "code",
   "execution_count": 10,
   "metadata": {
    "collapsed": false
   },
   "outputs": [],
   "source": [
    "# Split the data set in a training and testing subsample, see also http://scikit-learn.org/stable/modules/generated/sklearn.model_selection.train_test_split.html\n",
    "# This could be improved to use cross-validation\n",
    "Xtrain, Xtest, ytrain, ytest = train_test_split(trainData, labels, random_state=1)"
   ]
  },
  {
   "cell_type": "code",
   "execution_count": 11,
   "metadata": {
    "collapsed": false
   },
   "outputs": [],
   "source": [
    "#instantiate and train the model on the train subsample\n",
    "model = GaussianNB()\n",
    "model.fit(Xtrain, ytrain);"
   ]
  },
  {
   "cell_type": "code",
   "execution_count": 12,
   "metadata": {
    "collapsed": false
   },
   "outputs": [],
   "source": [
    "testPrediction = model.predict(Xtest)"
   ]
  },
  {
   "cell_type": "code",
   "execution_count": 13,
   "metadata": {
    "collapsed": false
   },
   "outputs": [
    {
     "data": {
      "image/png": "[encoded data removed]",
      "text/plain": [
       "<matplotlib.figure.Figure at 0x7f5025d145d0>"
      ]
     },
     "metadata": {},
     "output_type": "display_data"
    }
   ],
   "source": [
    "#Confusion matrix\n",
    "\n",
    "%matplotlib inline \n",
    "import numpy as np\n",
    "import matplotlib.pyplot as plt \n",
    "import seaborn as sns; sns.set()\n",
    "\n",
    "from sklearn.metrics import confusion_matrix\n",
    "mat = confusion_matrix(ytest, testPrediction)\n",
    "#np.histogram2d(mat, bins=50)\n",
    "sns.heatmap(mat.T, square=True, annot=True, fmt='d', cbar=False)\n",
    "#                xticklabels=testLabels, yticklabels=testLabels)\n",
    "plt.xlabel('true label')\n",
    "plt.ylabel('predicted label');"
   ]
  },
  {
   "cell_type": "code",
   "execution_count": 14,
   "metadata": {
    "collapsed": false
   },
   "outputs": [
    {
     "data": {
      "image/png": "[encoded data removed]",
      "text/plain": [
       "<matplotlib.figure.Figure at 0x7f5025c57b10>"
      ]
     },
     "metadata": {},
     "output_type": "display_data"
    }
   ],
   "source": [
    "# Get some insight on misentification: quarks misidentified as gluons have larger mass on average, \n",
    "# they are much more gluon like\n",
    "variableToPlot='mass'\n",
    "\n",
    "import matplotlib.pyplot as plt\n",
    "%matplotlib inline\n",
    "\n",
    "plt.hist(Xtest[ytest == 1][variableToPlot], bins=50, alpha=1, label='Gluons (all)');\n",
    "plt.hist(Xtest[ytest == 0][variableToPlot], bins=50, alpha=0.5, label='Quarks (all)');\n",
    "plt.hist(Xtest[(testPrediction != ytest) & (ytest == 0)][variableToPlot], bins=50, alpha=1, label='Quarks (misidentified)');\n",
    "plt.gca().set_yscale(\"log\")\n",
    "plt.xlabel(variableToPlot)\n",
    "plt.legend();\n",
    "\n"
   ]
  },
  {
   "cell_type": "code",
   "execution_count": 15,
   "metadata": {
    "collapsed": false
   },
   "outputs": [],
   "source": [
    "# Naive Bayes can also estimate probability, which we can use to plot a ROC curve\n",
    "y_score = model.predict_proba(Xtest)"
   ]
  },
  {
   "cell_type": "code",
   "execution_count": 16,
   "metadata": {
    "collapsed": false
   },
   "outputs": [],
   "source": [
    "# Compute ROC curve and ROC area for each class\n",
    "from sklearn.metrics import roc_curve, auc\n",
    "\n",
    "fpr, tpr, thresholds = roc_curve(ytest,y_score[:,1])\n",
    "roc_auc = auc(fpr,tpr) \n"
   ]
  },
  {
   "cell_type": "code",
   "execution_count": 17,
   "metadata": {
    "collapsed": false
   },
   "outputs": [
    {
     "data": {
      "image/png": "[encoded data removed]",
      "text/plain": [
       "<matplotlib.figure.Figure at 0x7f5025c57410>"
      ]
     },
     "metadata": {},
     "output_type": "display_data"
    }
   ],
   "source": [
    "plt.figure()\n",
    "lw = 2\n",
    "plt.plot(fpr, tpr, color='darkorange',\n",
    "         lw=lw, label='ROC curve (area = %0.2f)' % roc_auc)\n",
    "plt.plot([0, 1], [0, 1], color='navy', lw=lw, linestyle='--')\n",
    "plt.xlim([0.0, 1.0])\n",
    "plt.ylim([0.0, 1.05])\n",
    "plt.xlabel('False Positive Rate')\n",
    "plt.ylabel('True Positive Rate')\n",
    "plt.title('Receiver operating characteristic')\n",
    "plt.legend(loc=\"lower right\")\n",
    "plt.show()"
   ]
  },
  {
   "cell_type": "markdown",
   "metadata": {
    "collapsed": true
   },
   "source": [
    "# Testing on modified dataset\n",
    "in the following cells, we use the model on the modified dataset"
   ]
  },
  {
   "cell_type": "code",
   "execution_count": 18,
   "metadata": {
    "collapsed": false
   },
   "outputs": [
    {
     "name": "stdout",
     "output_type": "stream",
     "text": [
      "Input dir: /eos/project/i/iml/IMLChallengeQG/quarks_modified/\n",
      "\r",
      " Processing [0/20000]\r",
      " Processing [10000/20000]\n",
      "Input dir: /eos/project/i/iml/IMLChallengeQG/gluons_modified/\n",
      "\r",
      " Processing [0/20000]\r",
      " Processing [10000/20000]\n"
     ]
    },
    {
     "name": "stderr",
     "output_type": "stream",
     "text": [
      "Error in <TFile::TFile>: file _eos_project_i_iml_IMLChallengeQG_quarks_modified__shapes.root does not exist\n",
      "Error in <TFile::TFile>: file _eos_project_i_iml_IMLChallengeQG_gluons_modified__shapes.root does not exist\n"
     ]
    }
   ],
   "source": [
    "# dfQuarksMod = delphes_helpers.GetJetShapes('/eos/project/i/iml/iMLChallengeQG/quarks_modified/quarks_modified_0.root', 10000)\n",
    "# dfGluonsMod = delphes_helpers.GetJetShapes('/eos/project/i/iml/iMLChallengeQG/gluons_modified/gluons_modified_0.root', 10000)\n",
    "# FIXME: CHANGE PATHS\n",
    "\n",
    "dfQuarksMod = flat_helper.GetJetShapesFast('/eos/project/i/iml/IMLChallengeQG/quarks_modified/', 20000, recompute=False)\n",
    "dfGluonsMod = flat_helper.GetJetShapesFast('/eos/project/i/iml/IMLChallengeQG/gluons_modified/', 20000, recompute=False)"
   ]
  },
  {
   "cell_type": "code",
   "execution_count": 19,
   "metadata": {
    "collapsed": false
   },
   "outputs": [
    {
     "data": {
      "text/html": [
       "<div>\n",
       "<table border=\"1\" class=\"dataframe\">\n",
       "  <thead>\n",
       "    <tr style=\"text-align: right;\">\n",
       "      <th></th>\n",
       "      <th>mass</th>\n",
       "      <th>ntowers</th>\n",
       "      <th>radial</th>\n",
       "      <th>dispersion</th>\n",
       "      <th>isGluon</th>\n",
       "    </tr>\n",
       "  </thead>\n",
       "  <tbody>\n",
       "    <tr>\n",
       "      <th>0</th>\n",
       "      <td>14.346468</td>\n",
       "      <td>3.0</td>\n",
       "      <td>0.402398</td>\n",
       "      <td>0.510903</td>\n",
       "      <td>0</td>\n",
       "    </tr>\n",
       "    <tr>\n",
       "      <th>1</th>\n",
       "      <td>8.302828</td>\n",
       "      <td>12.0</td>\n",
       "      <td>0.000000</td>\n",
       "      <td>0.000000</td>\n",
       "      <td>0</td>\n",
       "    </tr>\n",
       "    <tr>\n",
       "      <th>2</th>\n",
       "      <td>15.908714</td>\n",
       "      <td>17.0</td>\n",
       "      <td>0.288714</td>\n",
       "      <td>0.733929</td>\n",
       "      <td>0</td>\n",
       "    </tr>\n",
       "    <tr>\n",
       "      <th>3</th>\n",
       "      <td>13.210590</td>\n",
       "      <td>12.0</td>\n",
       "      <td>0.000000</td>\n",
       "      <td>0.000000</td>\n",
       "      <td>0</td>\n",
       "    </tr>\n",
       "    <tr>\n",
       "      <th>4</th>\n",
       "      <td>12.938103</td>\n",
       "      <td>13.0</td>\n",
       "      <td>0.000000</td>\n",
       "      <td>0.000000</td>\n",
       "      <td>0</td>\n",
       "    </tr>\n",
       "  </tbody>\n",
       "</table>\n",
       "</div>"
      ],
      "text/plain": [
       "        mass  ntowers    radial  dispersion  isGluon\n",
       "0  14.346468      3.0  0.402398    0.510903        0\n",
       "1   8.302828     12.0  0.000000    0.000000        0\n",
       "2  15.908714     17.0  0.288714    0.733929        0\n",
       "3  13.210590     12.0  0.000000    0.000000        0\n",
       "4  12.938103     13.0  0.000000    0.000000        0"
      ]
     },
     "execution_count": 19,
     "metadata": {},
     "output_type": "execute_result"
    }
   ],
   "source": [
    "dfQuarksMod['isGluon'] = 0\n",
    "dfGluonsMod['isGluon'] = 1\n",
    "dfQuarksMod.head()"
   ]
  },
  {
   "cell_type": "code",
   "execution_count": 20,
   "metadata": {
    "collapsed": false
   },
   "outputs": [
    {
     "data": {
      "text/html": [
       "<div>\n",
       "<table border=\"1\" class=\"dataframe\">\n",
       "  <thead>\n",
       "    <tr style=\"text-align: right;\">\n",
       "      <th></th>\n",
       "      <th>mass</th>\n",
       "      <th>ntowers</th>\n",
       "      <th>radial</th>\n",
       "      <th>dispersion</th>\n",
       "      <th>isGluon</th>\n",
       "    </tr>\n",
       "  </thead>\n",
       "  <tbody>\n",
       "    <tr>\n",
       "      <th>0</th>\n",
       "      <td>21.166771</td>\n",
       "      <td>29.0</td>\n",
       "      <td>1.079220</td>\n",
       "      <td>0.496385</td>\n",
       "      <td>1</td>\n",
       "    </tr>\n",
       "    <tr>\n",
       "      <th>1</th>\n",
       "      <td>13.149769</td>\n",
       "      <td>20.0</td>\n",
       "      <td>0.105501</td>\n",
       "      <td>0.647734</td>\n",
       "      <td>1</td>\n",
       "    </tr>\n",
       "    <tr>\n",
       "      <th>2</th>\n",
       "      <td>23.172453</td>\n",
       "      <td>16.0</td>\n",
       "      <td>0.294498</td>\n",
       "      <td>0.349830</td>\n",
       "      <td>1</td>\n",
       "    </tr>\n",
       "    <tr>\n",
       "      <th>3</th>\n",
       "      <td>9.086473</td>\n",
       "      <td>6.0</td>\n",
       "      <td>0.180580</td>\n",
       "      <td>0.424260</td>\n",
       "      <td>1</td>\n",
       "    </tr>\n",
       "    <tr>\n",
       "      <th>4</th>\n",
       "      <td>12.410316</td>\n",
       "      <td>6.0</td>\n",
       "      <td>1.360975</td>\n",
       "      <td>0.737150</td>\n",
       "      <td>1</td>\n",
       "    </tr>\n",
       "  </tbody>\n",
       "</table>\n",
       "</div>"
      ],
      "text/plain": [
       "        mass  ntowers    radial  dispersion  isGluon\n",
       "0  21.166771     29.0  1.079220    0.496385        1\n",
       "1  13.149769     20.0  0.105501    0.647734        1\n",
       "2  23.172453     16.0  0.294498    0.349830        1\n",
       "3   9.086473      6.0  0.180580    0.424260        1\n",
       "4  12.410316      6.0  1.360975    0.737150        1"
      ]
     },
     "execution_count": 20,
     "metadata": {},
     "output_type": "execute_result"
    }
   ],
   "source": [
    "dfGluonsMod.head()"
   ]
  },
  {
   "cell_type": "code",
   "execution_count": 21,
   "metadata": {
    "collapsed": false
   },
   "outputs": [
    {
     "data": {
      "text/html": [
       "<div>\n",
       "<table border=\"1\" class=\"dataframe\">\n",
       "  <thead>\n",
       "    <tr style=\"text-align: right;\">\n",
       "      <th></th>\n",
       "      <th>mass</th>\n",
       "      <th>ntowers</th>\n",
       "      <th>radial</th>\n",
       "      <th>dispersion</th>\n",
       "    </tr>\n",
       "  </thead>\n",
       "  <tbody>\n",
       "    <tr>\n",
       "      <th>0</th>\n",
       "      <td>14.346468</td>\n",
       "      <td>3.0</td>\n",
       "      <td>0.402398</td>\n",
       "      <td>0.510903</td>\n",
       "    </tr>\n",
       "    <tr>\n",
       "      <th>1</th>\n",
       "      <td>8.302828</td>\n",
       "      <td>12.0</td>\n",
       "      <td>0.000000</td>\n",
       "      <td>0.000000</td>\n",
       "    </tr>\n",
       "    <tr>\n",
       "      <th>2</th>\n",
       "      <td>15.908714</td>\n",
       "      <td>17.0</td>\n",
       "      <td>0.288714</td>\n",
       "      <td>0.733929</td>\n",
       "    </tr>\n",
       "    <tr>\n",
       "      <th>3</th>\n",
       "      <td>13.210590</td>\n",
       "      <td>12.0</td>\n",
       "      <td>0.000000</td>\n",
       "      <td>0.000000</td>\n",
       "    </tr>\n",
       "    <tr>\n",
       "      <th>4</th>\n",
       "      <td>12.938103</td>\n",
       "      <td>13.0</td>\n",
       "      <td>0.000000</td>\n",
       "      <td>0.000000</td>\n",
       "    </tr>\n",
       "  </tbody>\n",
       "</table>\n",
       "</div>"
      ],
      "text/plain": [
       "        mass  ntowers    radial  dispersion\n",
       "0  14.346468      3.0  0.402398    0.510903\n",
       "1   8.302828     12.0  0.000000    0.000000\n",
       "2  15.908714     17.0  0.288714    0.733929\n",
       "3  13.210590     12.0  0.000000    0.000000\n",
       "4  12.938103     13.0  0.000000    0.000000"
      ]
     },
     "execution_count": 21,
     "metadata": {},
     "output_type": "execute_result"
    }
   ],
   "source": [
    "labelsMod = pd.concat([dfQuarksMod['isGluon'],dfGluonsMod['isGluon']])\n",
    "testDataMod = pd.concat([dfQuarksMod.drop('isGluon',axis=1), dfGluonsMod.drop('isGluon',axis=1)])\n",
    "testDataMod.head()"
   ]
  },
  {
   "cell_type": "code",
   "execution_count": 22,
   "metadata": {
    "collapsed": true
   },
   "outputs": [],
   "source": [
    "y_score_mod = model.predict_proba(testDataMod)"
   ]
  },
  {
   "cell_type": "code",
   "execution_count": 23,
   "metadata": {
    "collapsed": true
   },
   "outputs": [],
   "source": [
    "# Compute ROC curve and ROC area for each class\n",
    "from sklearn.metrics import roc_curve, auc\n",
    "\n",
    "fpr, tpr, thresholds = roc_curve(labelsMod,y_score_mod[:,1])\n",
    "roc_auc = auc(fpr,tpr) \n",
    "\n"
   ]
  },
  {
   "cell_type": "code",
   "execution_count": 24,
   "metadata": {
    "collapsed": false
   },
   "outputs": [
    {
     "data": {
      "image/png": "[encoded data removed]",
      "text/plain": [
       "<matplotlib.figure.Figure at 0x7f5026f77110>"
      ]
     },
     "metadata": {},
     "output_type": "display_data"
    }
   ],
   "source": [
    "plt.figure()\n",
    "lw = 2\n",
    "plt.plot(fpr, tpr, color='darkred',\n",
    "         lw=lw, label='ROC curve (area = %0.2f)' % roc_auc)\n",
    "plt.plot([0, 1], [0, 1], color='navy', lw=lw, linestyle='--')\n",
    "plt.xlim([0.0, 1.0])\n",
    "plt.ylim([0.0, 1.05])\n",
    "plt.xlabel('False Positive Rate')\n",
    "plt.ylabel('True Positive Rate')\n",
    "plt.title('Receiver operating characteristic')\n",
    "plt.legend(loc=\"lower right\")\n",
    "plt.show()"
   ]
  },
  {
   "cell_type": "code",
   "execution_count": 25,
   "metadata": {
    "collapsed": false
   },
   "outputs": [],
   "source": [
    "# Save AUC value\n",
    "f = open(\"imlcoordinators_v0_auc.txt\",\"w\") \n",
    "f.write(str(roc_auc))\n",
    "f.close()"
   ]
  },
  {
   "cell_type": "code",
   "execution_count": null,
   "metadata": {
    "collapsed": true
   },
   "outputs": [],
   "source": []
  }
 ],
 "metadata": {
  "anaconda-cloud": {},
  "kernelspec": {
   "display_name": "Python 2",
   "language": "python",
   "name": "python2"
  },
  "language_info": {
   "codemirror_mode": {
    "name": "ipython",
    "version": 2
   },
   "file_extension": ".py",
   "mimetype": "text/x-python",
   "name": "python",
   "nbconvert_exporter": "python",
   "pygments_lexer": "ipython2",
   "version": "2.7.13"
  },
  "nav_menu": {},
  "toc": {
   "navigate_menu": true,
   "number_sections": true,
   "sideBar": true,
   "threshold": 6,
   "toc_cell": false,
   "toc_section_display": "block",
   "toc_window_display": false
  }
 },
 "nbformat": 4,
 "nbformat_minor": 1
}
